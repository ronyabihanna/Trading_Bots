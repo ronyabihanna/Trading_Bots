import pandas as pd
from binance.client import Client

api_key= '0d72517e9004042611b9fe3fe7585e65dedaf6c0898b219367324d4e35c5fbf0'
api_secret = '036d36eafa786ccb460254c9af2b5bf1a4009b404ff52aef97c8824a429db1ce'

client = Client(api_key, api_secret, testnet = True)

#client.get_account()

pd.DataFrame(client.get_historical_klines('BTCUSDT','1m','30 min ago GMT+2'))

def getminutedata(symbol, interval, lookback):
    frame = pd. DataFrame (client.get_historical_klines(symbol, interval, lookback+'min ago GMT+2'))
    frame = frame.iloc[:,:6]
    frame.columns = ['Time', 'Open', 'High', 'Low', 'Close', 'Volume']
    frame = frame.set_index('Time')
    frame.index = pd.to_datetime(frame.index, unit='ms')
    frame = frame.astype(float)
    return frame
                   

test = getminutedata('BTCUSDT', '1m','30')

test.Open.plot()

#buy if asset fell by more then 0.2% within the last 30 min
#sell if asset rises by more then 0.15% or falls further by 0.15%

def strategytest(symbol, qty, entried=False):
    df = getminutedata(symbol, '1m','30m') 
    cumulet = (df.Open.pct_change()+1).cumprod()-1
    if not entered:
        if cumulret[-1]<-0.002:
            order = client.create_order(symbol=symbol , 
                                        side='BUY', 
                                        type='MARKET',
                                        quantity=qty)
            print(order)
            entered = True
        else:
            print('No trade executed yet')
    if entered:
        while(True):
            df = getminutedata(symbol, '1m','30m')
            sincebuy = df.loc[df.index>pd.to_datetime(order['transacTime'], unit='ms')]
            if len(sincebuy)>0:
                sincebuyret = (sincebuy.Open.pct_change()+1).cumprod()-1
                if sincebuyret[-1]>0.0015 or sincebuyret[-1]<0.0015:
                    order = client.create_order(symbol=symbol , 
                                        side='SELL', 
                                        type='MARKET',
                                        quantity=qty)
                    print(order)
                    break
                    #entered = False
            
            

strategytest('BTCUSDT',0.001)

